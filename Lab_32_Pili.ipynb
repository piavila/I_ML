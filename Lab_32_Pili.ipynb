{
  "cells": [
    {
      "cell_type": "markdown",
      "metadata": {
        "id": "view-in-github",
        "colab_type": "text"
      },
      "source": [
        "<a href=\"https://colab.research.google.com/github/piavila/I_ML/blob/main/Lab_32_Pili.ipynb\" target=\"_parent\"><img src=\"https://colab.research.google.com/assets/colab-badge.svg\" alt=\"Open In Colab\"/></a>"
      ]
    },
    {
      "cell_type": "markdown",
      "metadata": {
        "id": "Uzc2eVThCWfV"
      },
      "source": [
        "# Laboratorio 2: Armado de un esquema de aprendizaje automático\n",
        "\n",
        "En el laboratorio final se espera que puedan poner en práctica los conocimientos adquiridos en el curso, trabajando con un conjunto de datos de clasificación.\n",
        "\n",
        "El objetivo es que se introduzcan en el desarrollo de un esquema para hacer tareas de aprendizaje automático: selección de un modelo, ajuste de hiperparámetros y evaluación.\n",
        "\n",
        "El conjunto de datos a utilizar está en `./data/loan_data.csv`. Si abren el archivo verán que al principio (las líneas que empiezan con `#`) describen el conjunto de datos y sus atributos (incluyendo el atributo de etiqueta o clase).\n",
        "\n",
        "Se espera que hagan uso de las herramientas vistas en el curso. Se espera que hagan uso especialmente de las herramientas brindadas por `scikit-learn`."
      ]
    },
    {
      "cell_type": "code",
      "execution_count": null,
      "metadata": {
        "id": "NiVK2Ij3CWfZ"
      },
      "outputs": [],
      "source": [
        "import numpy as np\n",
        "import pandas as pd\n",
        "\n",
        "# TODO: Agregar las librerías que hagan falta\n",
        "from sklearn.model_selection import train_test_split"
      ]
    },
    {
      "cell_type": "markdown",
      "metadata": {
        "id": "DuCXskbaCWfa"
      },
      "source": [
        "## Carga de datos y división en entrenamiento y evaluación\n",
        "\n",
        "La celda siguiente se encarga de la carga de datos (haciendo uso de pandas). Estos serán los que se trabajarán en el resto del laboratorio."
      ]
    },
    {
      "cell_type": "code",
      "execution_count": null,
      "metadata": {
        "colab": {
          "base_uri": "https://localhost:8080/",
          "height": 74,
          "resources": {
            "http://localhost:8080/nbextensions/google.colab/files.js": {
              "data": "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",
              "headers": [
                [
                  "content-type",
                  "application/javascript"
                ]
              ],
              "ok": true,
              "status": 200,
              "status_text": ""
            }
          }
        },
        "id": "9fZhvrXFwFoa",
        "outputId": "dfb8e52f-04fc-4d85-e32a-389abb6baf94"
      },
      "outputs": [
        {
          "output_type": "display_data",
          "data": {
            "text/plain": [
              "<IPython.core.display.HTML object>"
            ],
            "text/html": [
              "\n",
              "     <input type=\"file\" id=\"files-70ac739c-c9a0-42f7-bb5b-9aebfdeff324\" name=\"files[]\" multiple disabled\n",
              "        style=\"border:none\" />\n",
              "     <output id=\"result-70ac739c-c9a0-42f7-bb5b-9aebfdeff324\">\n",
              "      Upload widget is only available when the cell has been executed in the\n",
              "      current browser session. Please rerun this cell to enable.\n",
              "      </output>\n",
              "      <script src=\"/nbextensions/google.colab/files.js\"></script> "
            ]
          },
          "metadata": {}
        },
        {
          "output_type": "stream",
          "name": "stdout",
          "text": [
            "Saving loan_data.csv to loan_data (2).csv\n"
          ]
        }
      ],
      "source": [
        "from google.colab import files \n",
        "uploaded = files.upload()"
      ]
    },
    {
      "cell_type": "code",
      "execution_count": null,
      "metadata": {
        "id": "kLLr-1elCWfb"
      },
      "outputs": [],
      "source": [
        "dataset = pd.read_csv(\"loan_data.csv\", comment=\"#\")\n",
        "\n",
        "# División entre instancias y etiquetas\n",
        "X, y = dataset.iloc[:, 1:], dataset.TARGET\n",
        "\n",
        "# división entre entrenamiento y evaluación\n",
        "X_train, X_test, y_train, y_test = train_test_split(X, y, test_size=0.2, random_state=0)\n"
      ]
    },
    {
      "cell_type": "markdown",
      "metadata": {
        "id": "oTPuu4DZCWfb"
      },
      "source": [
        "\n",
        "Documentación:\n",
        "\n",
        "- https://scikit-learn.org/stable/modules/generated/sklearn.model_selection.train_test_split.html"
      ]
    },
    {
      "cell_type": "markdown",
      "metadata": {
        "id": "6NsFyfWBCWfc"
      },
      "source": [
        "## Ejercicio 1: Descripción de los Datos y la Tarea\n",
        "\n",
        "Responder las siguientes preguntas:\n",
        "\n",
        "1. ¿De qué se trata el conjunto de datos?\n",
        "2. ¿Cuál es la variable objetivo que hay que predecir? ¿Qué significado tiene?\n",
        "3. ¿Qué información (atributos) hay disponible para hacer la predicción?\n",
        "4. ¿Qué atributos imagina ud. que son los más determinantes para la predicción?\n",
        "\n",
        "**No hace falta escribir código para responder estas preguntas.**"
      ]
    },
    {
      "cell_type": "markdown",
      "source": [
        "### Ejercicio 1: \n",
        "\n",
        "1. El conjunto de datos contiene información sobre el desempeño de préstamos con garantía hipotecaria de 5960 casos.\n",
        "\n",
        "2. La variable objetivo que hay que predecir se denomina TARGET. Es una variable binaria que indica si el aplicante al préstamo incumplió o fue gravemente moroso. Este resultado ocurrió en 1189 casos (20% del total).\n",
        "\n",
        "3. La información que hay disponible para hacer esta predicción son 11 atributos que se listan a continuación,\n",
        "\n",
        "    * TARGET: atributos objetivo. Variable binaria con valores: 1 = cliente no pagó el préstamo; 0 = cliente pagó el préstamo.\n",
        "    * LOAN: monto de préstamo requerido\n",
        "    * MORTDUE: monto adeudado en el préstamo pedido\n",
        "    * VALUE: valor de la propiedad actual\n",
        "    * YOJ: años en el trabajo actual\n",
        "    * DEROG: cantidad de informes reprobados\n",
        "    * DELNQ: cantidad de líneas de créditos no pagas\n",
        "    * CLAGE: antigüedad (en meses) de la línea de crédito\n",
        "    * NINQ: cantidad de líneas de créditos actuales\n",
        "    * CLNO: cantidad de líneas de crédito\n",
        "    * DEBTINC: cociente entre la deuda y los ingresos del aplicante\n",
        "\n",
        "\n",
        "4. Los atributos que imaginamos son los más determinantes para la predicción son: TARGET, DEROG, DELINQ, DEBTINC"
      ],
      "metadata": {
        "id": "FPDmk2NQHO0h"
      }
    },
    {
      "cell_type": "code",
      "source": [
        "#Vemos el dataset\n",
        "dataset.iloc[:10]"
      ],
      "metadata": {
        "colab": {
          "base_uri": "https://localhost:8080/",
          "height": 407
        },
        "id": "TrqJivRuHh7V",
        "outputId": "4b1322e7-74ea-43bd-f740-5cc0efc0a252"
      },
      "execution_count": null,
      "outputs": [
        {
          "output_type": "execute_result",
          "data": {
            "text/plain": [
              "   TARGET   LOAN   MORTDUE     VALUE   YOJ  DEROG  DELINQ       CLAGE  NINQ  \\\n",
              "0       0   4700   88026.0  115506.0   6.0    0.0     0.0  182.248332   0.0   \n",
              "1       0  19300   39926.0  101208.0   4.0    0.0     0.0  140.051638   0.0   \n",
              "2       0   5700   71556.0   79538.0   2.0    0.0     0.0   92.643085   0.0   \n",
              "3       0  13000   44875.0   57713.0   0.0    1.0     0.0  184.990324   1.0   \n",
              "4       0  19300   72752.0  106084.0  11.0    0.0     0.0  193.707100   1.0   \n",
              "5       0  11500   53651.0   87547.0  18.0    0.0     0.0  191.396887   0.0   \n",
              "6       0  17200  103519.0  118074.0   0.0    0.0     0.0  102.678612   1.0   \n",
              "7       0  24200   22763.0   47622.0  23.0    0.0     0.0  126.922691   1.0   \n",
              "8       0  12600   62493.0   77141.0  13.0    0.0     0.0  266.333101   0.0   \n",
              "9       0  12300   90006.0  121122.0   9.0    0.0     0.0  133.497541   1.0   \n",
              "\n",
              "   CLNO    DEBTINC  \n",
              "0  27.0  29.209023  \n",
              "1  14.0  31.545694  \n",
              "2  15.0  41.210012  \n",
              "3  12.0  28.602076  \n",
              "4  13.0  30.686106  \n",
              "5  16.0  34.368651  \n",
              "6  21.0  41.418353  \n",
              "7  10.0  23.040945  \n",
              "8  26.0  27.007872  \n",
              "9  21.0  36.910482  "
            ],
            "text/html": [
              "\n",
              "  <div id=\"df-bfb143c1-8fdc-4972-b5e1-b00c09fb28eb\">\n",
              "    <div class=\"colab-df-container\">\n",
              "      <div>\n",
              "<style scoped>\n",
              "    .dataframe tbody tr th:only-of-type {\n",
              "        vertical-align: middle;\n",
              "    }\n",
              "\n",
              "    .dataframe tbody tr th {\n",
              "        vertical-align: top;\n",
              "    }\n",
              "\n",
              "    .dataframe thead th {\n",
              "        text-align: right;\n",
              "    }\n",
              "</style>\n",
              "<table border=\"1\" class=\"dataframe\">\n",
              "  <thead>\n",
              "    <tr style=\"text-align: right;\">\n",
              "      <th></th>\n",
              "      <th>TARGET</th>\n",
              "      <th>LOAN</th>\n",
              "      <th>MORTDUE</th>\n",
              "      <th>VALUE</th>\n",
              "      <th>YOJ</th>\n",
              "      <th>DEROG</th>\n",
              "      <th>DELINQ</th>\n",
              "      <th>CLAGE</th>\n",
              "      <th>NINQ</th>\n",
              "      <th>CLNO</th>\n",
              "      <th>DEBTINC</th>\n",
              "    </tr>\n",
              "  </thead>\n",
              "  <tbody>\n",
              "    <tr>\n",
              "      <th>0</th>\n",
              "      <td>0</td>\n",
              "      <td>4700</td>\n",
              "      <td>88026.0</td>\n",
              "      <td>115506.0</td>\n",
              "      <td>6.0</td>\n",
              "      <td>0.0</td>\n",
              "      <td>0.0</td>\n",
              "      <td>182.248332</td>\n",
              "      <td>0.0</td>\n",
              "      <td>27.0</td>\n",
              "      <td>29.209023</td>\n",
              "    </tr>\n",
              "    <tr>\n",
              "      <th>1</th>\n",
              "      <td>0</td>\n",
              "      <td>19300</td>\n",
              "      <td>39926.0</td>\n",
              "      <td>101208.0</td>\n",
              "      <td>4.0</td>\n",
              "      <td>0.0</td>\n",
              "      <td>0.0</td>\n",
              "      <td>140.051638</td>\n",
              "      <td>0.0</td>\n",
              "      <td>14.0</td>\n",
              "      <td>31.545694</td>\n",
              "    </tr>\n",
              "    <tr>\n",
              "      <th>2</th>\n",
              "      <td>0</td>\n",
              "      <td>5700</td>\n",
              "      <td>71556.0</td>\n",
              "      <td>79538.0</td>\n",
              "      <td>2.0</td>\n",
              "      <td>0.0</td>\n",
              "      <td>0.0</td>\n",
              "      <td>92.643085</td>\n",
              "      <td>0.0</td>\n",
              "      <td>15.0</td>\n",
              "      <td>41.210012</td>\n",
              "    </tr>\n",
              "    <tr>\n",
              "      <th>3</th>\n",
              "      <td>0</td>\n",
              "      <td>13000</td>\n",
              "      <td>44875.0</td>\n",
              "      <td>57713.0</td>\n",
              "      <td>0.0</td>\n",
              "      <td>1.0</td>\n",
              "      <td>0.0</td>\n",
              "      <td>184.990324</td>\n",
              "      <td>1.0</td>\n",
              "      <td>12.0</td>\n",
              "      <td>28.602076</td>\n",
              "    </tr>\n",
              "    <tr>\n",
              "      <th>4</th>\n",
              "      <td>0</td>\n",
              "      <td>19300</td>\n",
              "      <td>72752.0</td>\n",
              "      <td>106084.0</td>\n",
              "      <td>11.0</td>\n",
              "      <td>0.0</td>\n",
              "      <td>0.0</td>\n",
              "      <td>193.707100</td>\n",
              "      <td>1.0</td>\n",
              "      <td>13.0</td>\n",
              "      <td>30.686106</td>\n",
              "    </tr>\n",
              "    <tr>\n",
              "      <th>5</th>\n",
              "      <td>0</td>\n",
              "      <td>11500</td>\n",
              "      <td>53651.0</td>\n",
              "      <td>87547.0</td>\n",
              "      <td>18.0</td>\n",
              "      <td>0.0</td>\n",
              "      <td>0.0</td>\n",
              "      <td>191.396887</td>\n",
              "      <td>0.0</td>\n",
              "      <td>16.0</td>\n",
              "      <td>34.368651</td>\n",
              "    </tr>\n",
              "    <tr>\n",
              "      <th>6</th>\n",
              "      <td>0</td>\n",
              "      <td>17200</td>\n",
              "      <td>103519.0</td>\n",
              "      <td>118074.0</td>\n",
              "      <td>0.0</td>\n",
              "      <td>0.0</td>\n",
              "      <td>0.0</td>\n",
              "      <td>102.678612</td>\n",
              "      <td>1.0</td>\n",
              "      <td>21.0</td>\n",
              "      <td>41.418353</td>\n",
              "    </tr>\n",
              "    <tr>\n",
              "      <th>7</th>\n",
              "      <td>0</td>\n",
              "      <td>24200</td>\n",
              "      <td>22763.0</td>\n",
              "      <td>47622.0</td>\n",
              "      <td>23.0</td>\n",
              "      <td>0.0</td>\n",
              "      <td>0.0</td>\n",
              "      <td>126.922691</td>\n",
              "      <td>1.0</td>\n",
              "      <td>10.0</td>\n",
              "      <td>23.040945</td>\n",
              "    </tr>\n",
              "    <tr>\n",
              "      <th>8</th>\n",
              "      <td>0</td>\n",
              "      <td>12600</td>\n",
              "      <td>62493.0</td>\n",
              "      <td>77141.0</td>\n",
              "      <td>13.0</td>\n",
              "      <td>0.0</td>\n",
              "      <td>0.0</td>\n",
              "      <td>266.333101</td>\n",
              "      <td>0.0</td>\n",
              "      <td>26.0</td>\n",
              "      <td>27.007872</td>\n",
              "    </tr>\n",
              "    <tr>\n",
              "      <th>9</th>\n",
              "      <td>0</td>\n",
              "      <td>12300</td>\n",
              "      <td>90006.0</td>\n",
              "      <td>121122.0</td>\n",
              "      <td>9.0</td>\n",
              "      <td>0.0</td>\n",
              "      <td>0.0</td>\n",
              "      <td>133.497541</td>\n",
              "      <td>1.0</td>\n",
              "      <td>21.0</td>\n",
              "      <td>36.910482</td>\n",
              "    </tr>\n",
              "  </tbody>\n",
              "</table>\n",
              "</div>\n",
              "      <button class=\"colab-df-convert\" onclick=\"convertToInteractive('df-bfb143c1-8fdc-4972-b5e1-b00c09fb28eb')\"\n",
              "              title=\"Convert this dataframe to an interactive table.\"\n",
              "              style=\"display:none;\">\n",
              "        \n",
              "  <svg xmlns=\"http://www.w3.org/2000/svg\" height=\"24px\"viewBox=\"0 0 24 24\"\n",
              "       width=\"24px\">\n",
              "    <path d=\"M0 0h24v24H0V0z\" fill=\"none\"/>\n",
              "    <path d=\"M18.56 5.44l.94 2.06.94-2.06 2.06-.94-2.06-.94-.94-2.06-.94 2.06-2.06.94zm-11 1L8.5 8.5l.94-2.06 2.06-.94-2.06-.94L8.5 2.5l-.94 2.06-2.06.94zm10 10l.94 2.06.94-2.06 2.06-.94-2.06-.94-.94-2.06-.94 2.06-2.06.94z\"/><path d=\"M17.41 7.96l-1.37-1.37c-.4-.4-.92-.59-1.43-.59-.52 0-1.04.2-1.43.59L10.3 9.45l-7.72 7.72c-.78.78-.78 2.05 0 2.83L4 21.41c.39.39.9.59 1.41.59.51 0 1.02-.2 1.41-.59l7.78-7.78 2.81-2.81c.8-.78.8-2.07 0-2.86zM5.41 20L4 18.59l7.72-7.72 1.47 1.35L5.41 20z\"/>\n",
              "  </svg>\n",
              "      </button>\n",
              "      \n",
              "  <style>\n",
              "    .colab-df-container {\n",
              "      display:flex;\n",
              "      flex-wrap:wrap;\n",
              "      gap: 12px;\n",
              "    }\n",
              "\n",
              "    .colab-df-convert {\n",
              "      background-color: #E8F0FE;\n",
              "      border: none;\n",
              "      border-radius: 50%;\n",
              "      cursor: pointer;\n",
              "      display: none;\n",
              "      fill: #1967D2;\n",
              "      height: 32px;\n",
              "      padding: 0 0 0 0;\n",
              "      width: 32px;\n",
              "    }\n",
              "\n",
              "    .colab-df-convert:hover {\n",
              "      background-color: #E2EBFA;\n",
              "      box-shadow: 0px 1px 2px rgba(60, 64, 67, 0.3), 0px 1px 3px 1px rgba(60, 64, 67, 0.15);\n",
              "      fill: #174EA6;\n",
              "    }\n",
              "\n",
              "    [theme=dark] .colab-df-convert {\n",
              "      background-color: #3B4455;\n",
              "      fill: #D2E3FC;\n",
              "    }\n",
              "\n",
              "    [theme=dark] .colab-df-convert:hover {\n",
              "      background-color: #434B5C;\n",
              "      box-shadow: 0px 1px 3px 1px rgba(0, 0, 0, 0.15);\n",
              "      filter: drop-shadow(0px 1px 2px rgba(0, 0, 0, 0.3));\n",
              "      fill: #FFFFFF;\n",
              "    }\n",
              "  </style>\n",
              "\n",
              "      <script>\n",
              "        const buttonEl =\n",
              "          document.querySelector('#df-bfb143c1-8fdc-4972-b5e1-b00c09fb28eb button.colab-df-convert');\n",
              "        buttonEl.style.display =\n",
              "          google.colab.kernel.accessAllowed ? 'block' : 'none';\n",
              "\n",
              "        async function convertToInteractive(key) {\n",
              "          const element = document.querySelector('#df-bfb143c1-8fdc-4972-b5e1-b00c09fb28eb');\n",
              "          const dataTable =\n",
              "            await google.colab.kernel.invokeFunction('convertToInteractive',\n",
              "                                                     [key], {});\n",
              "          if (!dataTable) return;\n",
              "\n",
              "          const docLinkHtml = 'Like what you see? Visit the ' +\n",
              "            '<a target=\"_blank\" href=https://colab.research.google.com/notebooks/data_table.ipynb>data table notebook</a>'\n",
              "            + ' to learn more about interactive tables.';\n",
              "          element.innerHTML = '';\n",
              "          dataTable['output_type'] = 'display_data';\n",
              "          await google.colab.output.renderOutput(dataTable, element);\n",
              "          const docLink = document.createElement('div');\n",
              "          docLink.innerHTML = docLinkHtml;\n",
              "          element.appendChild(docLink);\n",
              "        }\n",
              "      </script>\n",
              "    </div>\n",
              "  </div>\n",
              "  "
            ]
          },
          "metadata": {},
          "execution_count": 96
        }
      ]
    },
    {
      "cell_type": "code",
      "source": [
        "#Estudiamos los estadísticos de las columnas\n",
        "for col in dataset.columns:\n",
        "    #print(col)\n",
        "    print('')\n",
        "    print('*****',col,'*****')\n",
        "    print('')\n",
        "    print(dataset[col].describe())"
      ],
      "metadata": {
        "colab": {
          "base_uri": "https://localhost:8080/"
        },
        "id": "0sKzcxafHov2",
        "outputId": "9e90d73c-e578-442e-92d7-2ecc9d151f31"
      },
      "execution_count": null,
      "outputs": [
        {
          "output_type": "stream",
          "name": "stdout",
          "text": [
            "\n",
            "***** TARGET *****\n",
            "\n",
            "count    1854.000000\n",
            "mean        0.166667\n",
            "std         0.372779\n",
            "min         0.000000\n",
            "25%         0.000000\n",
            "50%         0.000000\n",
            "75%         0.000000\n",
            "max         1.000000\n",
            "Name: TARGET, dtype: float64\n",
            "\n",
            "***** LOAN *****\n",
            "\n",
            "count     1854.000000\n",
            "mean     19111.758360\n",
            "std      11000.345961\n",
            "min       1700.000000\n",
            "25%      12000.000000\n",
            "50%      17000.000000\n",
            "75%      23900.000000\n",
            "max      89800.000000\n",
            "Name: LOAN, dtype: float64\n",
            "\n",
            "***** MORTDUE *****\n",
            "\n",
            "count      1854.000000\n",
            "mean      76316.051780\n",
            "std       46227.026585\n",
            "min        5627.000000\n",
            "25%       48984.750000\n",
            "50%       67201.000000\n",
            "75%       93731.500000\n",
            "max      399412.000000\n",
            "Name: MORTDUE, dtype: float64\n",
            "\n",
            "***** VALUE *****\n",
            "\n",
            "count      1854.000000\n",
            "mean     107321.088457\n",
            "std       56039.685066\n",
            "min       21144.000000\n",
            "25%       70787.250000\n",
            "50%       94198.000000\n",
            "75%      122976.250000\n",
            "max      512650.000000\n",
            "Name: VALUE, dtype: float64\n",
            "\n",
            "***** YOJ *****\n",
            "\n",
            "count    1854.000000\n",
            "mean        8.900216\n",
            "std         7.552677\n",
            "min         0.000000\n",
            "25%         3.000000\n",
            "50%         7.000000\n",
            "75%        13.000000\n",
            "max        41.000000\n",
            "Name: YOJ, dtype: float64\n",
            "\n",
            "***** DEROG *****\n",
            "\n",
            "count    1854.000000\n",
            "mean        0.187702\n",
            "std         0.704882\n",
            "min         0.000000\n",
            "25%         0.000000\n",
            "50%         0.000000\n",
            "75%         0.000000\n",
            "max        10.000000\n",
            "Name: DEROG, dtype: float64\n",
            "\n",
            "***** DELINQ *****\n",
            "\n",
            "count    1854.000000\n",
            "mean        0.319849\n",
            "std         0.928452\n",
            "min         0.000000\n",
            "25%         0.000000\n",
            "50%         0.000000\n",
            "75%         0.000000\n",
            "max        10.000000\n",
            "Name: DELINQ, dtype: float64\n",
            "\n",
            "***** CLAGE *****\n",
            "\n",
            "count    1854.000000\n",
            "mean      180.300783\n",
            "std        84.838308\n",
            "min         0.486711\n",
            "25%       116.970718\n",
            "50%       174.967815\n",
            "75%       232.261800\n",
            "max      1168.233561\n",
            "Name: CLAGE, dtype: float64\n",
            "\n",
            "***** NINQ *****\n",
            "\n",
            "count    1854.000000\n",
            "mean        1.128910\n",
            "std         1.664555\n",
            "min         0.000000\n",
            "25%         0.000000\n",
            "50%         1.000000\n",
            "75%         2.000000\n",
            "max        13.000000\n",
            "Name: NINQ, dtype: float64\n",
            "\n",
            "***** CLNO *****\n",
            "\n",
            "count    1854.000000\n",
            "mean       21.857066\n",
            "std         9.510840\n",
            "min         0.000000\n",
            "25%        16.000000\n",
            "50%        21.000000\n",
            "75%        27.000000\n",
            "max        65.000000\n",
            "Name: CLNO, dtype: float64\n",
            "\n",
            "***** DEBTINC *****\n",
            "\n",
            "count    1854.000000\n",
            "mean       34.573408\n",
            "std         9.308794\n",
            "min         0.838118\n",
            "25%        29.427210\n",
            "50%        35.363407\n",
            "75%        39.357987\n",
            "max       144.189001\n",
            "Name: DEBTINC, dtype: float64\n"
          ]
        }
      ]
    },
    {
      "cell_type": "markdown",
      "metadata": {
        "id": "dCdETHVpCWfc"
      },
      "source": [
        "## Ejercicio 2: Predicción con Modelos Lineales\n",
        "\n",
        "En este ejercicio se entrenarán modelos lineales de clasificación para predecir la variable objetivo.\n",
        "\n",
        "Para ello, deberán utilizar la clase SGDClassifier de scikit-learn.\n",
        "\n",
        "Documentación:\n",
        "- https://scikit-learn.org/stable/modules/sgd.html\n",
        "- https://scikit-learn.org/stable/modules/generated/sklearn.linear_model.SGDClassifier.html\n"
      ]
    },
    {
      "cell_type": "markdown",
      "metadata": {
        "id": "DGen6iWwCWfd"
      },
      "source": [
        "### Ejercicio 2.1: SGDClassifier con hiperparámetros por defecto\n",
        "\n",
        "Entrenar y evaluar el clasificador SGDClassifier usando los valores por omisión de scikit-learn para todos los parámetros. Únicamente **fijar la semilla aleatoria** para hacer repetible el experimento.\n",
        "\n",
        "Evaluar sobre el conjunto de **entrenamiento** y sobre el conjunto de **evaluación**, reportando:\n",
        "- Accuracy\n",
        "- Precision\n",
        "- Recall\n",
        "- F1\n",
        "- matriz de confusión"
      ]
    },
    {
      "cell_type": "code",
      "source": [
        "# Importamos SGDClassifier\n",
        "from sklearn.linear_model import SGDClassifier\n",
        "# Creamos el clasificador 'clf' fijando la semilla aleatoria\n",
        "clf = SGDClassifier(random_state=0)     #You need to fix this value so the results are repeatable so set random_state=0 or whatever favourite number you want\n",
        "# Evaluamos sobre el conjunto de entrenamiento\n",
        "clf.fit(X_train, y_train)"
      ],
      "metadata": {
        "colab": {
          "base_uri": "https://localhost:8080/"
        },
        "id": "xPRKbIROKLTn",
        "outputId": "06029e9f-cd64-4603-9c5b-e405c5aaf130"
      },
      "execution_count": null,
      "outputs": [
        {
          "output_type": "execute_result",
          "data": {
            "text/plain": [
              "SGDClassifier(random_state=0)"
            ]
          },
          "metadata": {},
          "execution_count": 110
        }
      ]
    },
    {
      "cell_type": "markdown",
      "source": [
        "#### Accuracy, precision, recall, F1"
      ],
      "metadata": {
        "id": "A0Sjc66qLUFR"
      }
    },
    {
      "cell_type": "code",
      "source": [
        "# Importamos 'accuracy_score', precision_score', 'recall_score', 'f1_score'\n",
        "from sklearn.metrics import accuracy_score, precision_score, recall_score, f1_score\n",
        "\n",
        "\n",
        "# Evaluamos sobre el conjunto de entrenamiento\n",
        "Acc_Train = accuracy_score( y_train , clf.predict(X_train) )\n",
        "\n",
        "# Evaluamos sobre el conjunto de validación\n",
        "Acc_Test = accuracy_score( y_test , clf.predict(X_test) )\n",
        "\n",
        "# Evaluamos sobre el conjunto de entrenamiento\n",
        "Pre_Train = precision_score(y_train, clf.predict(X_train), average='micro')\n",
        "\n",
        "# Evaluamos sobre el conjunto de validacion\n",
        "Pre_Test= precision_score(y_test, clf.predict(X_test), average='micro')\n",
        "\n",
        "# Evaluamos sobre el conjunto de entrenamiento\n",
        "Rec_Train = recall_score(y_train, clf.predict(X_train))\n",
        "\n",
        "# Evaluamos sobre el conjunto de validacion\n",
        "Rec_Test= recall_score(y_test, clf.predict(X_test) ) \n",
        "\n",
        "# Evaluamos sobre el conjunto de entrenamiento\n",
        "F1_Train = f1_score(y_train, clf.predict(X_train), average='weighted')\n",
        "\n",
        "# Evaluamos sobre el conjunto de validacion\n",
        "F1_Test= f1_score(y_test, clf.predict(X_test), average='weighted')\n",
        "\n",
        "print(\"Acurracy for train vlues:\", Acc_Train)\n",
        "print(\"Acurracy for test vlues:\", Acc_Test)\n",
        "print(\"Precision for train vlues:\",Pre_Train)\n",
        "print(\"Precision for test vlues:\", Pre_Test)\n",
        "print(\"Recall for train vlues:\",Rec_Train)\n",
        "print(\"Recall for train vlues:\", Rec_Test)\n",
        "print(\"F1 for train vlues:\",F1_Train)\n",
        "print(\"F1 for train vlues:\",F1_Test)"
      ],
      "metadata": {
        "colab": {
          "base_uri": "https://localhost:8080/"
        },
        "id": "v1Y9BGr8WY0O",
        "outputId": "e08b3666-d8ae-40c3-f346-6338b5fbbd5b"
      },
      "execution_count": null,
      "outputs": [
        {
          "output_type": "stream",
          "name": "stdout",
          "text": [
            "Acurracy for train vlues: 0.8307484828051247\n",
            "Acurracy for test vlues: 0.8436657681940701\n",
            "Precision for train vlues: 0.8307484828051247\n",
            "Precision for test vlues: 0.8436657681940701\n",
            "Recall for train vlues: 0.0\n",
            "Recall for train vlues: 0.0\n",
            "F1 for train vlues: 0.7539463210430304\n",
            "F1 for train vlues: 0.772126858025567\n"
          ]
        }
      ]
    },
    {
      "cell_type": "code",
      "source": [
        "# Importamos 'classification_report'\n",
        "\n",
        "from sklearn.metrics import classification_report\n",
        "print(classification_report(y_train, clf.predict(X_train), zero_division=0))"
      ],
      "metadata": {
        "colab": {
          "base_uri": "https://localhost:8080/"
        },
        "id": "hVDQ4KMgm3lm",
        "outputId": "0044103b-2ee7-4a2e-c77e-9bdd82d43057"
      },
      "execution_count": null,
      "outputs": [
        {
          "output_type": "stream",
          "name": "stdout",
          "text": [
            "              precision    recall  f1-score   support\n",
            "\n",
            "           0       0.83      1.00      0.91      1232\n",
            "           1       0.00      0.00      0.00       251\n",
            "\n",
            "    accuracy                           0.83      1483\n",
            "   macro avg       0.42      0.50      0.45      1483\n",
            "weighted avg       0.69      0.83      0.75      1483\n",
            "\n"
          ]
        }
      ]
    },
    {
      "cell_type": "markdown",
      "source": [
        "#### Matriz de confusión"
      ],
      "metadata": {
        "id": "hS7eyQoou4Xr"
      }
    },
    {
      "cell_type": "code",
      "source": [
        "# importo 'confusion_matrix'\n",
        "from sklearn.metrics import confusion_matrix\n",
        "\n",
        "# evaluo sobre el conjunto de entrenamiento\n",
        "confusion_matrix(y_train, clf.predict(X_train))\n",
        "\n",
        "# evaluo sobre el conjunto de validacion\n",
        "confusion_matrix(y_test, clf.predict(X_test)) \n"
      ],
      "metadata": {
        "colab": {
          "base_uri": "https://localhost:8080/"
        },
        "id": "ICD8zIK3vDyy",
        "outputId": "c2220c8b-d4b2-45a6-9fa7-3ffad8cf7513"
      },
      "execution_count": null,
      "outputs": [
        {
          "output_type": "execute_result",
          "data": {
            "text/plain": [
              "array([[313,   0],\n",
              "       [ 58,   0]])"
            ]
          },
          "metadata": {},
          "execution_count": 52
        }
      ]
    },
    {
      "cell_type": "markdown",
      "metadata": {
        "id": "W9-SH31KCWfe"
      },
      "source": [
        "### Ejercicio 2.2: Ajuste de Hiperparámetros\n",
        "\n",
        "Seleccionar valores para los hiperparámetros principales del SGDClassifier. Como mínimo, probar diferentes funciones de loss, tasas de entrenamiento y tasas de regularización.\n",
        "\n",
        "Para ello, usar grid-search y 5-fold cross-validation sobre el conjunto de entrenamiento para explorar muchas combinaciones posibles de valores.\n",
        "\n",
        "Reportar accuracy promedio y varianza para todas las configuraciones.\n",
        "\n",
        "Para la mejor configuración encontrada, evaluar sobre el conjunto de **entrenamiento** y sobre el conjunto de **evaluación**, reportando:\n",
        "- Accuracy\n",
        "- Precision\n",
        "- Recall\n",
        "- F1\n",
        "- matriz de confusión\n",
        "\n",
        "Documentación:\n",
        "- https://scikit-learn.org/stable/modules/grid_search.html\n",
        "- https://scikit-learn.org/stable/modules/generated/sklearn.model_selection.GridSearchCV.html"
      ]
    },
    {
      "cell_type": "code",
      "source": [
        "#Importamos GridSearchCV\n",
        "from sklearn.model_selection import GridSearchCV"
      ],
      "metadata": {
        "id": "QWVOAp7CztvK"
      },
      "execution_count": null,
      "outputs": []
    },
    {
      "cell_type": "code",
      "source": [
        "# Definimos el espacio de parámetros\n",
        "param_grid = {'loss': ('hinge','log','perceptron'),\n",
        "              'penalty': ('l2', 'l1', 'elasticnet'),\n",
        "              'learning_rate': ('constant','optimal','invscaling','adaptive')}\n",
        "\n",
        "# Creamos el clasificador 'clf' fijando la semilla aleatoria\n",
        "clf = SGDClassifier(random_state=0,eta0=0.01)\n",
        "\n",
        "# Creamos el clasificador 'cv' usando GridSearchCV\n",
        "cv = GridSearchCV(clf,param_grid,cv=5)"
      ],
      "metadata": {
        "id": "_beXiAbtzwft"
      },
      "execution_count": null,
      "outputs": []
    },
    {
      "cell_type": "code",
      "source": [
        "#Evaluamos sobre el conjunto de entrenamiento\n",
        "cv.fit(X_train,y_train)"
      ],
      "metadata": {
        "colab": {
          "base_uri": "https://localhost:8080/"
        },
        "id": "MSoJXaGtzyvz",
        "outputId": "3fec5055-6cdf-4d33-8d72-5cd0ce04aff1"
      },
      "execution_count": null,
      "outputs": [
        {
          "output_type": "execute_result",
          "data": {
            "text/plain": [
              "GridSearchCV(cv=5, estimator=SGDClassifier(eta0=0.01, random_state=0),\n",
              "             param_grid={'learning_rate': ('constant', 'optimal', 'invscaling',\n",
              "                                           'adaptive'),\n",
              "                         'loss': ('hinge', 'log', 'perceptron'),\n",
              "                         'penalty': ('l2', 'l1', 'elasticnet')})"
            ]
          },
          "metadata": {},
          "execution_count": 172
        }
      ]
    },
    {
      "cell_type": "code",
      "source": [
        "# Reportamos accuracy promedio y varianza para todas las configuraciones.\n",
        "results = cv.cv_results_\n",
        "params = results['params']\n",
        "means = results['mean_test_score']\n",
        "stds = results['std_test_score']\n",
        "rank = results['rank_test_score']\n",
        "for mean, std, params in zip(means, stds, params):\n",
        "    print(\"Exactitud: %0.2f (+/-%0.02f) para los parámetros %r\" % (mean, std ** 2, params))"
      ],
      "metadata": {
        "colab": {
          "base_uri": "https://localhost:8080/"
        },
        "id": "dgOew7h8z0nZ",
        "outputId": "296ccfed-9c08-474a-dd68-cdcb4c8dd18b"
      },
      "execution_count": null,
      "outputs": [
        {
          "output_type": "stream",
          "name": "stdout",
          "text": [
            "Exactitud: 0.70 (+/-0.06) para los parámetros {'learning_rate': 'constant', 'loss': 'hinge', 'penalty': 'l2'}\n",
            "Exactitud: 0.72 (+/-0.05) para los parámetros {'learning_rate': 'constant', 'loss': 'hinge', 'penalty': 'l1'}\n",
            "Exactitud: 0.70 (+/-0.06) para los parámetros {'learning_rate': 'constant', 'loss': 'hinge', 'penalty': 'elasticnet'}\n",
            "Exactitud: 0.55 (+/-0.08) para los parámetros {'learning_rate': 'constant', 'loss': 'log', 'penalty': 'l2'}\n",
            "Exactitud: 0.70 (+/-0.06) para los parámetros {'learning_rate': 'constant', 'loss': 'log', 'penalty': 'l1'}\n",
            "Exactitud: 0.69 (+/-0.07) para los parámetros {'learning_rate': 'constant', 'loss': 'log', 'penalty': 'elasticnet'}\n",
            "Exactitud: 0.70 (+/-0.06) para los parámetros {'learning_rate': 'constant', 'loss': 'perceptron', 'penalty': 'l2'}\n",
            "Exactitud: 0.72 (+/-0.05) para los parámetros {'learning_rate': 'constant', 'loss': 'perceptron', 'penalty': 'l1'}\n",
            "Exactitud: 0.70 (+/-0.06) para los parámetros {'learning_rate': 'constant', 'loss': 'perceptron', 'penalty': 'elasticnet'}\n",
            "Exactitud: 0.83 (+/-0.00) para los parámetros {'learning_rate': 'optimal', 'loss': 'hinge', 'penalty': 'l2'}\n",
            "Exactitud: 0.83 (+/-0.00) para los parámetros {'learning_rate': 'optimal', 'loss': 'hinge', 'penalty': 'l1'}\n",
            "Exactitud: 0.70 (+/-0.07) para los parámetros {'learning_rate': 'optimal', 'loss': 'hinge', 'penalty': 'elasticnet'}\n",
            "Exactitud: 0.83 (+/-0.00) para los parámetros {'learning_rate': 'optimal', 'loss': 'log', 'penalty': 'l2'}\n",
            "Exactitud: 0.56 (+/-0.10) para los parámetros {'learning_rate': 'optimal', 'loss': 'log', 'penalty': 'l1'}\n",
            "Exactitud: 0.70 (+/-0.07) para los parámetros {'learning_rate': 'optimal', 'loss': 'log', 'penalty': 'elasticnet'}\n",
            "Exactitud: 0.83 (+/-0.00) para los parámetros {'learning_rate': 'optimal', 'loss': 'perceptron', 'penalty': 'l2'}\n",
            "Exactitud: 0.83 (+/-0.00) para los parámetros {'learning_rate': 'optimal', 'loss': 'perceptron', 'penalty': 'l1'}\n",
            "Exactitud: 0.70 (+/-0.07) para los parámetros {'learning_rate': 'optimal', 'loss': 'perceptron', 'penalty': 'elasticnet'}\n",
            "Exactitud: 0.57 (+/-0.11) para los parámetros {'learning_rate': 'invscaling', 'loss': 'hinge', 'penalty': 'l2'}\n",
            "Exactitud: 0.83 (+/-0.00) para los parámetros {'learning_rate': 'invscaling', 'loss': 'hinge', 'penalty': 'l1'}\n",
            "Exactitud: 0.57 (+/-0.10) para los parámetros {'learning_rate': 'invscaling', 'loss': 'hinge', 'penalty': 'elasticnet'}\n",
            "Exactitud: 0.69 (+/-0.07) para los parámetros {'learning_rate': 'invscaling', 'loss': 'log', 'penalty': 'l2'}\n",
            "Exactitud: 0.81 (+/-0.00) para los parámetros {'learning_rate': 'invscaling', 'loss': 'log', 'penalty': 'l1'}\n",
            "Exactitud: 0.70 (+/-0.07) para los parámetros {'learning_rate': 'invscaling', 'loss': 'log', 'penalty': 'elasticnet'}\n",
            "Exactitud: 0.57 (+/-0.11) para los parámetros {'learning_rate': 'invscaling', 'loss': 'perceptron', 'penalty': 'l2'}\n",
            "Exactitud: 0.83 (+/-0.00) para los parámetros {'learning_rate': 'invscaling', 'loss': 'perceptron', 'penalty': 'l1'}\n",
            "Exactitud: 0.57 (+/-0.10) para los parámetros {'learning_rate': 'invscaling', 'loss': 'perceptron', 'penalty': 'elasticnet'}\n",
            "Exactitud: 0.73 (+/-0.01) para los parámetros {'learning_rate': 'adaptive', 'loss': 'hinge', 'penalty': 'l2'}\n",
            "Exactitud: 0.79 (+/-0.00) para los parámetros {'learning_rate': 'adaptive', 'loss': 'hinge', 'penalty': 'l1'}\n",
            "Exactitud: 0.78 (+/-0.01) para los parámetros {'learning_rate': 'adaptive', 'loss': 'hinge', 'penalty': 'elasticnet'}\n",
            "Exactitud: 0.78 (+/-0.00) para los parámetros {'learning_rate': 'adaptive', 'loss': 'log', 'penalty': 'l2'}\n",
            "Exactitud: 0.76 (+/-0.00) para los parámetros {'learning_rate': 'adaptive', 'loss': 'log', 'penalty': 'l1'}\n",
            "Exactitud: 0.75 (+/-0.01) para los parámetros {'learning_rate': 'adaptive', 'loss': 'log', 'penalty': 'elasticnet'}\n",
            "Exactitud: 0.73 (+/-0.01) para los parámetros {'learning_rate': 'adaptive', 'loss': 'perceptron', 'penalty': 'l2'}\n",
            "Exactitud: 0.79 (+/-0.00) para los parámetros {'learning_rate': 'adaptive', 'loss': 'perceptron', 'penalty': 'l1'}\n",
            "Exactitud: 0.78 (+/-0.01) para los parámetros {'learning_rate': 'adaptive', 'loss': 'perceptron', 'penalty': 'elasticnet'}\n"
          ]
        }
      ]
    },
    {
      "cell_type": "code",
      "source": [
        "# Vemos cuáles son los mejores parámetros\n",
        "best_model = cv.best_estimator_\n",
        "cv.best_params_"
      ],
      "metadata": {
        "colab": {
          "base_uri": "https://localhost:8080/"
        },
        "id": "_adH7OBhNTlT",
        "outputId": "707fccbb-d79a-411c-ad51-b1fb0cb0bb3d"
      },
      "execution_count": null,
      "outputs": [
        {
          "output_type": "execute_result",
          "data": {
            "text/plain": [
              "{'learning_rate': 'optimal', 'loss': 'hinge', 'penalty': 'l2'}"
            ]
          },
          "metadata": {},
          "execution_count": 175
        }
      ]
    },
    {
      "cell_type": "code",
      "source": [
        "# Armamos el clasificador con los mejores parámetros encontrados\n",
        "clf2 = SGDClassifier(loss='hinge',penalty='l2',learning_rate='optimal',random_state=0)"
      ],
      "metadata": {
        "id": "2FidkJJ9z8xT"
      },
      "execution_count": null,
      "outputs": []
    },
    {
      "cell_type": "code",
      "source": [
        "# Evaluamos sobre el conjunto de entrenamiento\n",
        "clf2.fit(X_train, y_train)"
      ],
      "metadata": {
        "colab": {
          "base_uri": "https://localhost:8080/"
        },
        "id": "B8Ut842Hz_In",
        "outputId": "e6fab387-4921-4fa1-88bc-9e79654493e2"
      },
      "execution_count": null,
      "outputs": [
        {
          "output_type": "execute_result",
          "data": {
            "text/plain": [
              "SGDClassifier(random_state=0)"
            ]
          },
          "metadata": {},
          "execution_count": 177
        }
      ]
    },
    {
      "cell_type": "markdown",
      "source": [
        "#### Accuracy, precision, recall, F1"
      ],
      "metadata": {
        "id": "WAlANdFcbCpg"
      }
    },
    {
      "cell_type": "code",
      "source": [
        "# Evaluamos sobre el conjunto de entrenamiento\n",
        "Acc_Train2 = accuracy_score( y_train , clf2.predict(X_train) )\n",
        "\n",
        "# Evaluamos sobre el conjunto de validación\n",
        "Acc_Test2 = accuracy_score( y_test , clf2.predict(X_test) )\n",
        "\n",
        "# Evaluamos sobre el conjunto de entrenamiento\n",
        "Pre_Train2 = precision_score(y_train, clf2.predict(X_train), average='micro')\n",
        "\n",
        "# Evaluamos sobre el conjunto de validacion\n",
        "Pre_Test2 = precision_score(y_test, clf2.predict(X_test), average='micro')\n",
        "\n",
        "# Evaluamos sobre el conjunto de entrenamiento\n",
        "Rec_Train2 = recall_score(y_train, clf2.predict(X_train))\n",
        "\n",
        "# Evaluamos sobre el conjunto de validacion\n",
        "Rec_Test2 = recall_score(y_test, clf2.predict(X_test) ) \n",
        "\n",
        "# Evaluamos sobre el conjunto de entrenamiento\n",
        "F1_Train2 = f1_score(y_train, clf2.predict(X_train), average='weighted')\n",
        "\n",
        "# Evaluamos sobre el conjunto de validacion\n",
        "F1_Test2 = f1_score(y_test, clf2.predict(X_test), average='weighted')\n",
        "\n",
        "print(\"Acurracy for train vlues:\", Acc_Train2)\n",
        "print(\"Acurracy for test vlues:\", Acc_Test2)\n",
        "print(\"Precision for train vlues:\",Pre_Train2)\n",
        "print(\"Precision for test vlues:\", Pre_Test2)\n",
        "print(\"Recall for train vlues:\",Rec_Train2)\n",
        "print(\"Recall for train vlues:\", Rec_Test2)\n",
        "print(\"F1 for train vlues:\",F1_Train2)\n",
        "print(\"F1 for train vlues:\",F1_Test2)"
      ],
      "metadata": {
        "colab": {
          "base_uri": "https://localhost:8080/"
        },
        "id": "Wp1TgrmlaxeJ",
        "outputId": "ea5c944c-16ab-4495-e652-c3ac936e8429"
      },
      "execution_count": null,
      "outputs": [
        {
          "output_type": "stream",
          "name": "stdout",
          "text": [
            "Acurracy for train vlues: 0.8307484828051247\n",
            "Acurracy for test vlues: 0.8436657681940701\n",
            "Precision for train vlues: 0.8307484828051247\n",
            "Precision for test vlues: 0.8436657681940701\n",
            "Recall for train vlues: 0.0\n",
            "Recall for train vlues: 0.0\n",
            "F1 for train vlues: 0.7539463210430304\n",
            "F1 for train vlues: 0.772126858025567\n"
          ]
        }
      ]
    },
    {
      "cell_type": "markdown",
      "source": [
        "#### Matriz de confusión"
      ],
      "metadata": {
        "id": "jbxDHzBTOpRE"
      }
    },
    {
      "cell_type": "code",
      "source": [
        "# Evaluamos sobre el conjunto de entrenamiento\n",
        "confusion_matrix(y_train, clf2.predict(X_train))\n",
        "\n",
        "# Evaluamos sobre el conjunto de validacion\n",
        "confusion_matrix(y_test, clf2.predict(X_test))  "
      ],
      "metadata": {
        "colab": {
          "base_uri": "https://localhost:8080/"
        },
        "id": "OIN7n7h7TFgx",
        "outputId": "db1401af-77a9-43b6-9414-136028074a73"
      },
      "execution_count": null,
      "outputs": [
        {
          "output_type": "execute_result",
          "data": {
            "text/plain": [
              "array([[313,   0],\n",
              "       [ 58,   0]])"
            ]
          },
          "metadata": {},
          "execution_count": 179
        }
      ]
    },
    {
      "cell_type": "markdown",
      "metadata": {
        "id": "EqVc8izMCWfe"
      },
      "source": [
        "## Ejercicio 3: Árboles de Decisión\n",
        "\n",
        "En este ejercicio se entrenarán árboles de decisión para predecir la variable objetivo.\n",
        "\n",
        "Para ello, deberán utilizar la clase DecisionTreeClassifier de scikit-learn.\n",
        "\n",
        "Documentación:\n",
        "- https://scikit-learn.org/stable/modules/tree.html\n",
        "  - https://scikit-learn.org/stable/modules/tree.html#tips-on-practical-use\n",
        "- https://scikit-learn.org/stable/modules/generated/sklearn.tree.DecisionTreeClassifier.html\n",
        "- https://scikit-learn.org/stable/auto_examples/tree/plot_unveil_tree_structure.html"
      ]
    },
    {
      "cell_type": "markdown",
      "metadata": {
        "id": "_iui00ftCWff"
      },
      "source": [
        "### Ejercicio 3.1: DecisionTreeClassifier con hiperparámetros por defecto\n",
        "\n",
        "Entrenar y evaluar el clasificador DecisionTreeClassifier usando los valores por omisión de scikit-learn para todos los parámetros. Únicamente **fijar la semilla aleatoria** para hacer repetible el experimento.\n",
        "\n",
        "Evaluar sobre el conjunto de **entrenamiento** y sobre el conjunto de **evaluación**, reportando:\n",
        "- Accuracy\n",
        "- Precision\n",
        "- Recall\n",
        "- F1\n",
        "- matriz de confusión\n"
      ]
    },
    {
      "cell_type": "markdown",
      "source": [
        "#### DecisionTreeClassifier"
      ],
      "metadata": {
        "id": "U3JZ7nCMWT_Z"
      }
    },
    {
      "cell_type": "code",
      "source": [
        "# Imporamos DecisionTreeClassifier\n",
        "from sklearn.tree import DecisionTreeClassifier\n",
        "\n",
        "# Creamos el clasificador 'clf3' fijando la semilla aleatoria\n",
        "clf3 = DecisionTreeClassifier(random_state=0)\n",
        "\n",
        "# Evaluamos sobre el conjunto de entrenamiento\n",
        "clf3.fit(X_train, y_train)"
      ],
      "metadata": {
        "colab": {
          "base_uri": "https://localhost:8080/"
        },
        "id": "REnOwkDFWWR0",
        "outputId": "9a4adef8-d826-41e7-f5ca-9d9390cfeb8e"
      },
      "execution_count": null,
      "outputs": [
        {
          "output_type": "execute_result",
          "data": {
            "text/plain": [
              "DecisionTreeClassifier(random_state=0)"
            ]
          },
          "metadata": {},
          "execution_count": 180
        }
      ]
    },
    {
      "cell_type": "markdown",
      "source": [
        "#### Accuracy, precision, recall, F1"
      ],
      "metadata": {
        "id": "OyKXZ9abb6xQ"
      }
    },
    {
      "cell_type": "code",
      "source": [
        "# Evaluamos sobre el conjunto de entrenamiento\n",
        "Acc_Train3 = accuracy_score( y_train , clf3.predict(X_train) )\n",
        "\n",
        "# Evaluamos sobre el conjunto de validación\n",
        "Acc_Test3 = accuracy_score( y_test , clf3.predict(X_test) )\n",
        "\n",
        "# Evaluamos sobre el conjunto de entrenamiento\n",
        "Pre_Train3 = precision_score(y_train, clf3.predict(X_train), average='micro')\n",
        "\n",
        "# Evaluamos sobre el conjunto de validacion\n",
        "Pre_Test3 = precision_score(y_test, clf3.predict(X_test), average='micro')\n",
        "\n",
        "# Evaluamos sobre el conjunto de entrenamiento\n",
        "Rec_Train3 = recall_score(y_train, clf3.predict(X_train))\n",
        "\n",
        "# Evaluamos sobre el conjunto de validacion\n",
        "Rec_Test3 = recall_score(y_test, clf3.predict(X_test) ) \n",
        "\n",
        "# Evaluamos sobre el conjunto de entrenamiento\n",
        "F1_Train3 = f1_score(y_train, clf3.predict(X_train), average='weighted')\n",
        "\n",
        "# Evaluamos sobre el conjunto de validacion\n",
        "F1_Test3= f1_score(y_test, clf3.predict(X_test), average='weighted')\n",
        "\n",
        "print(\"Acurracy for train vlues:\", Acc_Train3)\n",
        "print(\"Acurracy for test vlues:\", Acc_Test3)\n",
        "print(\"Precision for train vlues:\",Pre_Train3)\n",
        "print(\"Precision for test vlues:\", Pre_Test3)\n",
        "print(\"Recall for train vlues:\",Rec_Train3)\n",
        "print(\"Recall for train vlues:\", Rec_Test3)\n",
        "print(\"F1 for train vlues:\",F1_Train3)\n",
        "print(\"F1 for train vlues:\",F1_Test3)"
      ],
      "metadata": {
        "colab": {
          "base_uri": "https://localhost:8080/"
        },
        "id": "j2yQZUBJb3Kk",
        "outputId": "297c9c9a-314d-40da-c4b6-2a6c7d856e0c"
      },
      "execution_count": null,
      "outputs": [
        {
          "output_type": "stream",
          "name": "stdout",
          "text": [
            "Acurracy for train vlues: 1.0\n",
            "Acurracy for test vlues: 0.8814016172506739\n",
            "Precision for train vlues: 1.0\n",
            "Precision for test vlues: 0.8814016172506739\n",
            "Recall for train vlues: 1.0\n",
            "Recall for train vlues: 0.6379310344827587\n",
            "F1 for train vlues: 1.0\n",
            "F1 for train vlues: 0.8822166267801062\n"
          ]
        }
      ]
    },
    {
      "cell_type": "markdown",
      "source": [
        "#### Matriz de confusión"
      ],
      "metadata": {
        "id": "4iF3GTYMcPBg"
      }
    },
    {
      "cell_type": "code",
      "source": [
        "# Evaluamos sobre el conjunto de entrenamiento\n",
        "confusion_matrix(y_train, clf3.predict(X_train))\n",
        "\n",
        "# Evaluamos sobre el conjunto de validacion\n",
        "confusion_matrix(y_test, clf3.predict(X_test))  "
      ],
      "metadata": {
        "colab": {
          "base_uri": "https://localhost:8080/"
        },
        "id": "0XNvbYPMcRtp",
        "outputId": "23c50529-22c8-4127-a5c9-901a77c80cd4"
      },
      "execution_count": null,
      "outputs": [
        {
          "output_type": "execute_result",
          "data": {
            "text/plain": [
              "array([[290,  23],\n",
              "       [ 21,  37]])"
            ]
          },
          "metadata": {},
          "execution_count": 143
        }
      ]
    },
    {
      "cell_type": "markdown",
      "metadata": {
        "id": "icduSUDPCWff"
      },
      "source": [
        "### Ejercicio 3.2: Ajuste de Hiperparámetros\n",
        "\n",
        "Seleccionar valores para los hiperparámetros principales del DecisionTreeClassifier. Como mínimo, probar diferentes criterios de partición (criterion), profundidad máxima del árbol (max_depth), y cantidad mínima de samples por hoja (min_samples_leaf).\n",
        "\n",
        "Para ello, usar grid-search y 5-fold cross-validation sobre el conjunto de entrenamiento para explorar muchas combinaciones posibles de valores.\n",
        "\n",
        "Reportar accuracy promedio y varianza para todas las configuraciones.\n",
        "\n",
        "Para la mejor configuración encontrada, evaluar sobre el conjunto de **entrenamiento** y sobre el conjunto de **evaluación**, reportando:\n",
        "- Accuracy\n",
        "- Precision\n",
        "- Recall\n",
        "- F1\n",
        "- matriz de confusión\n",
        "\n",
        "\n",
        "Documentación:\n",
        "- https://scikit-learn.org/stable/modules/grid_search.html\n",
        "- https://scikit-learn.org/stable/modules/generated/sklearn.model_selection.GridSearchCV.html"
      ]
    },
    {
      "cell_type": "code",
      "source": [
        "# Definimos el espacio de parámetros\n",
        "parameters = {'criterion': ('gini','entropy'),\n",
        "              'max_depth': (5,6,7,8,9,10),\n",
        "              'min_samples_leaf': (2,3,4,5)}\n",
        "\n",
        "# Creamos el clasificador 'clf' fijando la semilla aleatoria\n",
        "clf3 = DecisionTreeClassifier(random_state=0)\n",
        "\n",
        "# Creamos el clasificador 'clf4' usando GridSearchCV\n",
        "cv2 = GridSearchCV(clf3,parameters,cv=5)"
      ],
      "metadata": {
        "id": "dOtu7UkDWs_q"
      },
      "execution_count": null,
      "outputs": []
    },
    {
      "cell_type": "code",
      "source": [
        "# Evaluamos sobre el conjunto de entrenamiento\n",
        "cv2.fit(X_train,y_train)"
      ],
      "metadata": {
        "colab": {
          "base_uri": "https://localhost:8080/"
        },
        "id": "7vT5Uk9oc59f",
        "outputId": "ed0efcf0-f9e1-47a7-f59e-15bd921e97d2"
      },
      "execution_count": null,
      "outputs": [
        {
          "output_type": "execute_result",
          "data": {
            "text/plain": [
              "GridSearchCV(cv=5, estimator=DecisionTreeClassifier(random_state=0),\n",
              "             param_grid={'criterion': ('gini', 'entropy'),\n",
              "                         'max_depth': (5, 6, 7, 8, 9, 10),\n",
              "                         'min_samples_leaf': (2, 3, 4, 5)})"
            ]
          },
          "metadata": {},
          "execution_count": 155
        }
      ]
    },
    {
      "cell_type": "code",
      "source": [
        "# Reportamos accuracy promedio y varianza para todas las configuraciones.\n",
        "means = cv2.cv_results_['mean_test_score']\n",
        "stds = cv2.cv_results_['std_test_score']\n",
        "for mean, std, params in zip(means, stds, cv2.cv_results_['params']):\n",
        "    print(\"Exactitud: %0.2f (+/-%0.02f) para los parámetros %r\" % (mean, std ** 2, params))"
      ],
      "metadata": {
        "id": "evF2eww5d_zw"
      },
      "execution_count": null,
      "outputs": []
    },
    {
      "cell_type": "code",
      "source": [
        "# Vemos cuáles son los mejores parámetros\n",
        "cv2.best_params_"
      ],
      "metadata": {
        "colab": {
          "base_uri": "https://localhost:8080/"
        },
        "id": "VKJpSAwQeKus",
        "outputId": "b16837da-9bea-490a-c160-7d739a112f0b"
      },
      "execution_count": null,
      "outputs": [
        {
          "output_type": "execute_result",
          "data": {
            "text/plain": [
              "{'criterion': 'gini', 'max_depth': 10, 'min_samples_leaf': 2}"
            ]
          },
          "metadata": {},
          "execution_count": 157
        }
      ]
    },
    {
      "cell_type": "code",
      "source": [
        "# Armamos el clasificador con los mejores parámetros encontrados\n",
        "clf4 = DecisionTreeClassifier(criterion='gini', max_depth=10, min_samples_leaf=2, random_state=0)"
      ],
      "metadata": {
        "id": "LNzoPy9YeNqH"
      },
      "execution_count": null,
      "outputs": []
    },
    {
      "cell_type": "code",
      "source": [
        "# Evaluamos sobre el conjunto de entrenamiento\n",
        "clf4.fit(X_train, y_train)"
      ],
      "metadata": {
        "colab": {
          "base_uri": "https://localhost:8080/"
        },
        "id": "7hoBLPN4feFN",
        "outputId": "b3c00e84-7f95-4c79-a067-ab24d0288598"
      },
      "execution_count": null,
      "outputs": [
        {
          "output_type": "execute_result",
          "data": {
            "text/plain": [
              "DecisionTreeClassifier(max_depth=10, min_samples_leaf=2, random_state=0)"
            ]
          },
          "metadata": {},
          "execution_count": 163
        }
      ]
    },
    {
      "cell_type": "markdown",
      "source": [
        "#### Accuracy, precision, recall, F1"
      ],
      "metadata": {
        "id": "gaYK22J2gBy6"
      }
    },
    {
      "cell_type": "code",
      "source": [
        "# Evaluamos sobre el conjunto de entrenamiento\n",
        "Acc_Train4 = accuracy_score( y_train , clf4.predict(X_train) )\n",
        "\n",
        "# Evaluamos sobre el conjunto de validación\n",
        "Acc_Test4 = accuracy_score( y_test , clf4.predict(X_test) )\n",
        "\n",
        "# Evaluamos sobre el conjunto de entrenamiento\n",
        "Pre_Train4 = precision_score(y_train, clf4.predict(X_train), average='micro')\n",
        "\n",
        "# Evaluamos sobre el conjunto de validacion\n",
        "Pre_Test4 = precision_score(y_test, clf4.predict(X_test), average='micro')\n",
        "\n",
        "# Evaluamos sobre el conjunto de entrenamiento\n",
        "Rec_Train4 = recall_score(y_train, clf4.predict(X_train))\n",
        "\n",
        "# Evaluamos sobre el conjunto de validacion\n",
        "Rec_Test4 = recall_score(y_test, clf4.predict(X_test) ) \n",
        "\n",
        "# Evaluamos sobre el conjunto de entrenamiento\n",
        "F1_Train4 = f1_score(y_train, clf4.predict(X_train), average='weighted')\n",
        "\n",
        "# Evaluamos sobre el conjunto de validacion\n",
        "F1_Test4= f1_score(y_test, clf4.predict(X_test), average='weighted')\n",
        "\n",
        "print(\"Acurracy for train vlues:\", Acc_Train4)\n",
        "print(\"Acurracy for test vlues:\", Acc_Test4)\n",
        "print(\"Precision for train vlues:\",Pre_Train4)\n",
        "print(\"Precision for test vlues:\", Pre_Test4)\n",
        "print(\"Recall for train vlues:\",Rec_Train4)\n",
        "print(\"Recall for train vlues:\", Rec_Test4)\n",
        "print(\"F1 for train vlues:\",F1_Train4)\n",
        "print(\"F1 for train vlues:\",F1_Test4)"
      ],
      "metadata": {
        "colab": {
          "base_uri": "https://localhost:8080/"
        },
        "id": "r328ow1tfhBf",
        "outputId": "f1fccbfb-6108-49d0-90ac-f1d9b55e5b82"
      },
      "execution_count": null,
      "outputs": [
        {
          "output_type": "stream",
          "name": "stdout",
          "text": [
            "Acurracy for train vlues: 0.9501011463250169\n",
            "Acurracy for test vlues: 0.8975741239892183\n",
            "Precision for train vlues: 0.9501011463250169\n",
            "Precision for test vlues: 0.8975741239892183\n",
            "Recall for train vlues: 0.7131474103585658\n",
            "Recall for train vlues: 0.5172413793103449\n",
            "F1 for train vlues: 0.946747625810616\n",
            "F1 for train vlues: 0.8895990835101178\n"
          ]
        }
      ]
    },
    {
      "cell_type": "markdown",
      "source": [
        "#### Matriz de confusión"
      ],
      "metadata": {
        "id": "XKNKU4PKf6eP"
      }
    },
    {
      "cell_type": "code",
      "source": [
        "# Evaluamos sobre el conjunto de entrenamiento\n",
        "confusion_matrix(y_train, clf4.predict(X_train))"
      ],
      "metadata": {
        "colab": {
          "base_uri": "https://localhost:8080/"
        },
        "id": "0b1GdtiPf7Iy",
        "outputId": "7a7a04ab-20d9-4890-9b06-a9b0baa5eed6"
      },
      "execution_count": null,
      "outputs": [
        {
          "output_type": "execute_result",
          "data": {
            "text/plain": [
              "array([[1230,    2],\n",
              "       [  72,  179]])"
            ]
          },
          "metadata": {},
          "execution_count": 165
        }
      ]
    },
    {
      "cell_type": "code",
      "source": [
        "# Evaluamos sobre el conjunto de validacion\n",
        "confusion_matrix(y_test, clf4.predict(X_test))  "
      ],
      "metadata": {
        "colab": {
          "base_uri": "https://localhost:8080/"
        },
        "id": "uYcFyVY_f987",
        "outputId": "e5de245f-f6a1-45af-e38e-365a01a8cb95"
      },
      "execution_count": null,
      "outputs": [
        {
          "output_type": "execute_result",
          "data": {
            "text/plain": [
              "array([[303,  10],\n",
              "       [ 28,  30]])"
            ]
          },
          "metadata": {},
          "execution_count": 166
        }
      ]
    }
  ],
  "metadata": {
    "kernelspec": {
      "display_name": "Python 3",
      "language": "python",
      "name": "python3"
    },
    "language_info": {
      "codemirror_mode": {
        "name": "ipython",
        "version": 3
      },
      "file_extension": ".py",
      "mimetype": "text/x-python",
      "name": "python",
      "nbconvert_exporter": "python",
      "pygments_lexer": "ipython3",
      "version": "3.8.10"
    },
    "colab": {
      "name": "Lab 32_Pili.ipynb",
      "provenance": [],
      "include_colab_link": true
    }
  },
  "nbformat": 4,
  "nbformat_minor": 0
}